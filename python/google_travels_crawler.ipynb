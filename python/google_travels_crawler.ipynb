{
 "cells": [
  {
   "cell_type": "code",
   "execution_count": 1,
   "id": "398ce779",
   "metadata": {},
   "outputs": [],
   "source": [
    "from selenium import webdriver\n",
    "from selenium.webdriver.common.by import By\n",
    "from selenium.webdriver.common.keys import Keys\n",
    "from selenium.webdriver.support.ui import WebDriverWait\n",
    "from selenium.webdriver.support import expected_conditions as EC\n",
    "from selenium.webdriver.chrome.service import Service as ChromeService\n",
    "from webdriver_manager.chrome import ChromeDriverManager\n",
    "\n",
    "import pandas as pd\n",
    "import time"
   ]
  },
  {
   "cell_type": "code",
   "execution_count": 2,
   "id": "10ca1aea",
   "metadata": {},
   "outputs": [],
   "source": [
    "DELAY = 3"
   ]
  },
  {
   "cell_type": "code",
   "execution_count": 3,
   "id": "4f3537fe",
   "metadata": {},
   "outputs": [],
   "source": [
    "options = webdriver.ChromeOptions()\n",
    "options.add_argument(\"--headless=new\")"
   ]
  },
  {
   "cell_type": "code",
   "execution_count": 4,
   "id": "f8dcfb6d",
   "metadata": {},
   "outputs": [
    {
     "name": "stderr",
     "output_type": "stream",
     "text": [
      "\n",
      "\n",
      "====== WebDriver manager ======\n",
      "Current google-chrome version is 113.0.5672\n",
      "Get LATEST driver version for 113.0.5672\n",
      "Driver [C:\\Users\\user\\.wdm\\drivers\\chromedriver\\win32\\113.0.5672.63\\chromedriver.exe] found in cache\n"
     ]
    }
   ],
   "source": [
    "driver = webdriver.Chrome(service=ChromeService(ChromeDriverManager().install()), options=options)\n",
    "driver.maximize_window()\n",
    "driver.get('https://www.google.com/travel/flights')"
   ]
  },
  {
   "cell_type": "code",
   "execution_count": 5,
   "id": "f8b8bc85",
   "metadata": {},
   "outputs": [],
   "source": [
    "form = WebDriverWait(driver, 20).until(\n",
    "    EC.visibility_of_element_located(\n",
    "        (By.XPATH, '//div[@class= \"AJxgH\"]')\n",
    "    )\n",
    ")\n",
    "inputs = form.find_elements(By.TAG_NAME, 'input')"
   ]
  },
  {
   "cell_type": "code",
   "execution_count": 6,
   "id": "da465deb",
   "metadata": {},
   "outputs": [],
   "source": [
    "inputs[0].click()\n",
    "# driver.implicitly_wait(DELAY)\n",
    "time.sleep(DELAY)"
   ]
  },
  {
   "cell_type": "code",
   "execution_count": 7,
   "id": "ef3b6141",
   "metadata": {},
   "outputs": [],
   "source": [
    "inputs[1].send_keys('Fortaleza')\n",
    "inputs[1].send_keys(Keys.ENTER)\n",
    "# driver.implicitly_wait(DELAY)\n",
    "time.sleep(DELAY)"
   ]
  },
  {
   "cell_type": "code",
   "execution_count": 8,
   "id": "c63469ba",
   "metadata": {},
   "outputs": [],
   "source": [
    "inputs[2].click()\n",
    "# driver.implicitly_wait(DELAY)\n",
    "time.sleep(DELAY)"
   ]
  },
  {
   "cell_type": "code",
   "execution_count": 9,
   "id": "284cdd7c",
   "metadata": {},
   "outputs": [],
   "source": [
    "inputs[3].send_keys('Manaus')\n",
    "inputs[3].send_keys(Keys.ENTER)\n",
    "# driver.implicitly_wait(DELAY)\n",
    "time.sleep(DELAY)"
   ]
  },
  {
   "cell_type": "code",
   "execution_count": 10,
   "id": "d1035625",
   "metadata": {},
   "outputs": [],
   "source": [
    "inputs[4].click()\n",
    "# driver.implicitly_wait(DELAY)\n",
    "time.sleep(DELAY)"
   ]
  },
  {
   "cell_type": "code",
   "execution_count": 11,
   "id": "77cb9c88",
   "metadata": {},
   "outputs": [],
   "source": [
    "# inputs[6].clear()\n",
    "inputs[6].send_keys('01/06/2023')\n",
    "time.sleep(DELAY)\n",
    "inputs[6].send_keys(Keys.ENTER)\n",
    "# driver.implicitly_wait(DELAY)\n",
    "time.sleep(DELAY)"
   ]
  },
  {
   "cell_type": "code",
   "execution_count": 12,
   "id": "7dd4bf93",
   "metadata": {},
   "outputs": [],
   "source": [
    "# inputs[5].click()"
   ]
  },
  {
   "cell_type": "code",
   "execution_count": 13,
   "id": "7e429011",
   "metadata": {},
   "outputs": [],
   "source": [
    "inputs[7].send_keys(Keys.CONTROL + \"a\")\n",
    "time.sleep(DELAY)\n",
    "inputs[7].send_keys('30/08/2023')\n",
    "time.sleep(DELAY)\n",
    "inputs[7].send_keys(Keys.ENTER)\n",
    "# driver.implicitly_wait(DELAY)\n",
    "time.sleep(DELAY)"
   ]
  },
  {
   "cell_type": "code",
   "execution_count": 14,
   "id": "90512548",
   "metadata": {},
   "outputs": [],
   "source": [
    "buscar = WebDriverWait(driver, 10).until(\n",
    "    EC.visibility_of_element_located(\n",
    "        (By.XPATH, '//div[@class= \"WXaAwc\"]')\n",
    "    )\n",
    ")\n",
    "buscar.click()\n",
    "time.sleep(DELAY)"
   ]
  },
  {
   "cell_type": "code",
   "execution_count": 15,
   "id": "a2a03d0c",
   "metadata": {},
   "outputs": [],
   "source": [
    "buscar = WebDriverWait(driver, 10).until(\n",
    "    EC.visibility_of_element_located(\n",
    "        (By.XPATH, '//div[@class= \"xFFcie\"]')\n",
    "    )\n",
    ")\n",
    "buscar.click()\n",
    "time.sleep(DELAY)"
   ]
  },
  {
   "cell_type": "code",
   "execution_count": 16,
   "id": "85bcaa7f",
   "metadata": {},
   "outputs": [],
   "source": [
    "lista_melhores = WebDriverWait(driver, 10).until(\n",
    "    EC.visibility_of_element_located(\n",
    "        (By.XPATH, '//ul[@class=\"Rk10dc\"]')\n",
    "    )\n",
    ")\n",
    "time.sleep(DELAY)"
   ]
  },
  {
   "cell_type": "code",
   "execution_count": 17,
   "id": "8a86d44c",
   "metadata": {},
   "outputs": [],
   "source": [
    "dados = []\n",
    "itens = lista_melhores.find_elements(By.TAG_NAME, 'li')\n",
    "for i,_ in enumerate(itens):\n",
    "    horario_partida = lista_melhores.find_element(By.XPATH, f'//li[{i+1}]/div/div[2]/div/div[2]/div[2]/div[1]/span/span[1]/span/span/span').text\n",
    "    horario_chegada = lista_melhores.find_element(By.XPATH, f'//li[{i+1}]/div/div[2]/div/div[2]/div[2]/div[1]/span/span[2]/span/span/span').text\n",
    "    preco_viagem = lista_melhores.find_element(By.XPATH, f'//li[{i+1}]/div/div[2]/div/div[2]/div[6]/div[1]/div[2]/span').text\n",
    "    empresa = lista_melhores.find_element(By.XPATH, f'//li[{i+1}]/div/div[2]/div/div[2]/div[2]/div[2]/span').text\n",
    "    dados.append([horario_partida, horario_chegada, preco_viagem, empresa])\n",
    "    \n",
    "time.sleep(DELAY)"
   ]
  },
  {
   "cell_type": "code",
   "execution_count": 18,
   "id": "68c17794",
   "metadata": {},
   "outputs": [
    {
     "data": {
      "text/html": [
       "<div>\n",
       "<style scoped>\n",
       "    .dataframe tbody tr th:only-of-type {\n",
       "        vertical-align: middle;\n",
       "    }\n",
       "\n",
       "    .dataframe tbody tr th {\n",
       "        vertical-align: top;\n",
       "    }\n",
       "\n",
       "    .dataframe thead th {\n",
       "        text-align: right;\n",
       "    }\n",
       "</style>\n",
       "<table border=\"1\" class=\"dataframe\">\n",
       "  <thead>\n",
       "    <tr style=\"text-align: right;\">\n",
       "      <th></th>\n",
       "      <th>partida</th>\n",
       "      <th>chegada</th>\n",
       "      <th>preço</th>\n",
       "      <th>empresa</th>\n",
       "    </tr>\n",
       "  </thead>\n",
       "  <tbody>\n",
       "    <tr>\n",
       "      <th>0</th>\n",
       "      <td>15:00</td>\n",
       "      <td>01:05+1</td>\n",
       "      <td>R$ 2.277</td>\n",
       "      <td>Azul</td>\n",
       "    </tr>\n",
       "    <tr>\n",
       "      <th>1</th>\n",
       "      <td>22:55</td>\n",
       "      <td>07:00+1</td>\n",
       "      <td>R$ 2.277</td>\n",
       "      <td>Azul</td>\n",
       "    </tr>\n",
       "    <tr>\n",
       "      <th>2</th>\n",
       "      <td>20:10</td>\n",
       "      <td>01:05+1</td>\n",
       "      <td>R$ 2.386</td>\n",
       "      <td>Azul</td>\n",
       "    </tr>\n",
       "    <tr>\n",
       "      <th>3</th>\n",
       "      <td>04:40</td>\n",
       "      <td>11:30</td>\n",
       "      <td>R$ 2.900</td>\n",
       "      <td>LATAM</td>\n",
       "    </tr>\n",
       "  </tbody>\n",
       "</table>\n",
       "</div>"
      ],
      "text/plain": [
       "  partida  chegada     preço empresa\n",
       "0   15:00  01:05+1  R$ 2.277    Azul\n",
       "1   22:55  07:00+1  R$ 2.277    Azul\n",
       "2   20:10  01:05+1  R$ 2.386    Azul\n",
       "3   04:40    11:30  R$ 2.900   LATAM"
      ]
     },
     "execution_count": 18,
     "metadata": {},
     "output_type": "execute_result"
    }
   ],
   "source": [
    "df = pd.DataFrame(dados, columns = ['partida', 'chegada', 'preço', 'empresa'])\n",
    "df"
   ]
  },
  {
   "cell_type": "code",
   "execution_count": null,
   "id": "f51128e5",
   "metadata": {},
   "outputs": [],
   "source": [
    "df.to_excel(\"crawler.xlsx\")"
   ]
  },
  {
   "cell_type": "code",
   "execution_count": 19,
   "id": "870edf59",
   "metadata": {},
   "outputs": [],
   "source": [
    "time.sleep(DELAY)"
   ]
  },
  {
   "cell_type": "code",
   "execution_count": 20,
   "id": "cb2207df",
   "metadata": {},
   "outputs": [],
   "source": [
    "driver.quit()"
   ]
  }
 ],
 "metadata": {
  "kernelspec": {
   "display_name": "Python 3",
   "language": "python",
   "name": "python3"
  },
  "language_info": {
   "codemirror_mode": {
    "name": "ipython",
    "version": 3
   },
   "file_extension": ".py",
   "mimetype": "text/x-python",
   "name": "python",
   "nbconvert_exporter": "python",
   "pygments_lexer": "ipython3",
   "version": "3.8.8"
  }
 },
 "nbformat": 4,
 "nbformat_minor": 5
}
